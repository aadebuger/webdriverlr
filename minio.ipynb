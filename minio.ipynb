{
 "cells": [
  {
   "cell_type": "code",
   "execution_count": 5,
   "metadata": {
    "ExecuteTime": {
     "end_time": "2019-12-06T04:24:45.872260Z",
     "start_time": "2019-12-06T04:24:41.284388Z"
    }
   },
   "outputs": [
    {
     "name": "stdout",
     "output_type": "stream",
     "text": [
      "<selenium.webdriver.remote.webelement.WebElement (session=\"e33bfeb9261bd530aa0ad93d29b5893d\", element=\"d074e5c4-20be-42dc-8b7c-2094286e2c4c\")>\n"
     ]
    }
   ],
   "source": [
    "from selenium import webdriver # 从selenium导入webdriver\n",
    "from selenium.webdriver.common.action_chains import ActionChains\n",
    "driver = webdriver.Chrome()  # Optional argument, if not specified will search path.\n",
    "driver.get('http://localhost:9000')\n",
    "import time\n",
    "\n",
    "accesskey='//*[@id=\"accessKey\"]'\n",
    "secretkey='//*[@id=\"secretKey\"]'\n",
    "gobutton='/html/body/div[2]/div/div[1]/form/button'\n",
    "\n",
    "driver.find_element_by_xpath(accesskey).send_keys('JHK0LLTPIBB23UEP48AS')\n",
    "driver.find_element_by_xpath(secretkey).send_keys('F1fFdwyz6k9aGGmdpG6Q7BvviR/e3FQyql/3J3v/')\n",
    "\n",
    "#//*[@id=\"menu_tab\"]/li[2]/a'\n",
    "python_menu=driver.find_element_by_xpath(gobutton)\n",
    "print(python_menu)\n",
    "python_menu.click()"
   ]
  },
  {
   "cell_type": "code",
   "execution_count": null,
   "metadata": {},
   "outputs": [],
   "source": []
  },
  {
   "cell_type": "code",
   "execution_count": null,
   "metadata": {},
   "outputs": [],
   "source": []
  }
 ],
 "metadata": {
  "kernelspec": {
   "display_name": "Python 3",
   "language": "python",
   "name": "python3"
  },
  "language_info": {
   "codemirror_mode": {
    "name": "ipython",
    "version": 3
   },
   "file_extension": ".py",
   "mimetype": "text/x-python",
   "name": "python",
   "nbconvert_exporter": "python",
   "pygments_lexer": "ipython3",
   "version": "3.6.5"
  }
 },
 "nbformat": 4,
 "nbformat_minor": 2
}

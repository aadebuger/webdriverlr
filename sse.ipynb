{
 "cells": [
  {
   "cell_type": "code",
   "execution_count": 3,
   "metadata": {
    "ExecuteTime": {
     "end_time": "2019-12-02T09:19:03.475909Z",
     "start_time": "2019-12-02T09:18:24.151473Z"
    }
   },
   "outputs": [],
   "source": [
    "from selenium import webdriver # 从selenium导入webdriver\n",
    "\n",
    "driver = webdriver.Chrome()  # Optional argument, if not specified will search path.\n",
    "driver.get('http://www.sse.com.cn/disclosure/diclosure/block/deal/')"
   ]
  },
  {
   "cell_type": "code",
   "execution_count": null,
   "metadata": {},
   "outputs": [],
   "source": []
  },
  {
   "cell_type": "code",
   "execution_count": 17,
   "metadata": {
    "ExecuteTime": {
     "end_time": "2019-12-03T03:15:18.208619Z",
     "start_time": "2019-12-03T03:15:13.521182Z"
    }
   },
   "outputs": [
    {
     "name": "stdout",
     "output_type": "stream",
     "text": [
      "<selenium.webdriver.remote.webelement.WebElement (session=\"0c34aad4588c43857c3d42ec6ad16c1a\", element=\"8dc1bf34-932f-40de-b0a3-3a9dcdb2d026\")>\n"
     ]
    }
   ],
   "source": [
    "from selenium import webdriver # 从selenium导入webdriver\n",
    "from selenium.webdriver.common.action_chains import ActionChains\n",
    "driver = webdriver.Chrome()  # Optional argument, if not specified will search path.\n",
    "driver.get('http://www.sse.com.cn')\n",
    "import time\n",
    "path='/html/body/div[5]/div/div[2]/div/ul/li[2]/a'\n",
    "#//*[@id=\"menu_tab\"]/li[2]/a'\n",
    "python_menu=driver.find_element_by_xpath(path)\n",
    "print(python_menu)\n",
    "#ActionChains(driver).move_to_element(python_menu).perform()\n",
    "python_menu.click()\n",
    "#time.sleep(10)\n",
    "#path='/html/body/div[6]/div/div[1]/div[3]/div[2]/p[3]/a'\n",
    "#python_button=driver.find_element_by_xpath(path)\n",
    "\n",
    "#print(python_button)\n",
    "#python_button.click()"
   ]
  },
  {
   "cell_type": "code",
   "execution_count": 24,
   "metadata": {
    "ExecuteTime": {
     "end_time": "2019-12-03T03:25:45.170029Z",
     "start_time": "2019-12-03T03:25:40.266194Z"
    }
   },
   "outputs": [
    {
     "name": "stdout",
     "output_type": "stream",
     "text": [
      "<selenium.webdriver.remote.webelement.WebElement (session=\"c910049867818bf31686c6a8cb5a0624\", element=\"36c61e38-1e9c-4536-8ec2-5b29aa41b75c\")>\n",
      "top_side_show_items\n"
     ]
    }
   ],
   "source": [
    "from selenium import webdriver # 从selenium导入webdriver\n",
    "from selenium.webdriver.common.action_chains import ActionChains\n",
    "driver = webdriver.Chrome()  # Optional argument, if not specified will search path.\n",
    "driver.get('http://www.sse.com.cn')\n",
    "import time\n",
    "#path='/html/body/div[6]/div/div[1]/div[3]/div[2]/p[3]/a'\n",
    "path='//*[@id=\"menu_tab\"]/li[2]/a'\n",
    "#/html/body/div[5]/div/div[2]/div/ul/li[2]\n",
    "path='/html/body/div[5]/div/div[2]/div/ul/li[2]'\n",
    "python_menu=driver.find_element_by_xpath(path)\n",
    "print(python_menu)\n",
    "print(python_menu.get_attribute(\"class\"))\n",
    "ActionChains(driver).move_to_element(python_menu).perform()\n",
    "#python_menu.click()\n",
    "#time.sleep(10)\n",
    "#path='/html/body/div[6]/div/div[1]/div[3]/div[2]/p[3]/a'\n",
    "#python_button=driver.find_element_by_xpath(path)\n",
    "\n",
    "#print(python_button)\n",
    "#python_button.click()"
   ]
  },
  {
   "cell_type": "code",
   "execution_count": null,
   "metadata": {},
   "outputs": [],
   "source": []
  }
 ],
 "metadata": {
  "kernelspec": {
   "display_name": "Python 3",
   "language": "python",
   "name": "python3"
  },
  "language_info": {
   "codemirror_mode": {
    "name": "ipython",
    "version": 3
   },
   "file_extension": ".py",
   "mimetype": "text/x-python",
   "name": "python",
   "nbconvert_exporter": "python",
   "pygments_lexer": "ipython3",
   "version": "3.6.5"
  }
 },
 "nbformat": 4,
 "nbformat_minor": 2
}
